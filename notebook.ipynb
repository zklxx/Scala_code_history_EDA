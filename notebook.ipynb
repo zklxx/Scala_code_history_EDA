{
 "cells": [
  {
   "cell_type": "markdown",
   "id": "c45bc202-172b-4f6f-9670-0f1526717c78",
   "metadata": {
    "dc": {
     "key": "5"
    },
    "run_control": {
     "frozen": true
    },
    "tags": [
     "context"
    ]
   },
   "source": [
    "## Scala's real-world project repository data\n",
    "\n",
    "This project has been done as a part of my Data Science career path on DataCamp, to investigate contribution of each developer in open-source Scala project on GitHub during 2011-2018.\n",
    "\n",
    "Datasets that are used in this projects have been previously mined and extracted from GitHub: \n",
    "<li><code>pulls_2011-2013.csv</code> contains the basic information about the pull requests, and spans from the end of 2011 up to (but not including) 2014.</li>\n",
    "<li><code>pulls_2014-2018.csv</code> contains identical information, and spans from 2014 up to 2018.</li>\n",
    "<li><code>pull_files.csv</code> contains the files that were modified by each pull request.</li>\n",
    "</ol>"
   ]
  },
  {
   "cell_type": "markdown",
   "id": "e7e02f84",
   "metadata": {},
   "source": [
    "## Table of content\n",
    "\n",
    "1. Importing libraries\n",
    "2. Data cleaning \n",
    "3. Exploratory Data Analysis"
   ]
  },
  {
   "cell_type": "markdown",
   "id": "4bfb7857",
   "metadata": {},
   "source": [
    "##  1. Importing libraries"
   ]
  },
  {
   "cell_type": "code",
   "execution_count": 21,
   "id": "ff92d7c6",
   "metadata": {},
   "outputs": [],
   "source": [
    "#importing needed libraries\n",
    "import numpy as np\n",
    "import pandas as pd"
   ]
  },
  {
   "cell_type": "code",
   "execution_count": 5,
   "id": "089e78f1-5026-440e-a2b2-71d65608abc9",
   "metadata": {
    "dc": {
     "key": "5"
    },
    "executionTime": 207,
    "lastSuccessfullyExecutedCode": "import pandas as pd\npulls_one = pd.read_csv('datasets/pulls_2011-2013.csv')\npulls_two = pd.read_csv('datasets/pulls_2014-2018.csv')\npull_files = pd.read_csv('datasets/pull_files.csv')\n\nprint(pull_files)",
    "scrolled": true,
    "tags": [
     "sample_code"
    ]
   },
   "outputs": [
    {
     "name": "stdout",
     "output_type": "stream",
     "text": [
      "             pid                                               file\n",
      "0      163314316                    test/files/pos/t5638/Among.java\n",
      "1      163314316                   test/files/pos/t5638/Usage.scala\n",
      "2      163314316                         test/files/pos/t9291.scala\n",
      "3      163314316                         test/files/run/t8348.check\n",
      "4      163314316              test/files/run/t8348/TableColumn.java\n",
      "...          ...                                                ...\n",
      "85583     547354                       test/files/run/bitsets.check\n",
      "85584     547354                       test/files/run/bitsets.scala\n",
      "85585     547150  src/compiler/scala/tools/nsc/transform/LiftCod...\n",
      "85586     547150          src/library/scala/reflect/api/Trees.scala\n",
      "85587     547003                                         README.rst\n",
      "\n",
      "[85588 rows x 2 columns]\n"
     ]
    }
   ],
   "source": [
    "#Creating DataFrames from csv files\n",
    "pulls_one = pd.read_csv('datasets/pulls_2011-2013.csv')\n",
    "pulls_two = pd.read_csv('datasets/pulls_2014-2018.csv')\n",
    "pull_files = pd.read_csv('datasets/pull_files.csv')\n",
    "\n",
    "print(pull_files)"
   ]
  },
  {
   "cell_type": "markdown",
   "id": "6829a2e9-b684-4e0e-b450-c42d43b996fa",
   "metadata": {
    "dc": {
     "key": "12"
    },
    "run_control": {
     "frozen": true
    },
    "tags": [
     "context"
    ]
   },
   "source": [
    "## 2. Data cleaning"
   ]
  },
  {
   "cell_type": "code",
   "execution_count": 4,
   "id": "72e79875-8396-484a-9c67-89b0e45c2f0a",
   "metadata": {
    "dc": {
     "key": "12"
    },
    "tags": [
     "sample_code"
    ]
   },
   "outputs": [
    {
     "name": "stdout",
     "output_type": "stream",
     "text": [
      "            pid         user                      date  \\\n",
      "0      11166973  VladimirNik 2013-12-31 23:10:55+00:00   \n",
      "1      11166973  VladimirNik 2013-12-31 23:10:55+00:00   \n",
      "2      11166973  VladimirNik 2013-12-31 23:10:55+00:00   \n",
      "3      11166973  VladimirNik 2013-12-31 23:10:55+00:00   \n",
      "4      11161892      Ichoran 2013-12-31 16:55:47+00:00   \n",
      "...         ...          ...                       ...   \n",
      "85583  11231462      rklaehn 2014-01-04 22:42:02+00:00   \n",
      "85584  11188295      rklaehn 2014-01-02 18:55:33+00:00   \n",
      "85585  11188295      rklaehn 2014-01-02 18:55:33+00:00   \n",
      "85586  11188295      rklaehn 2014-01-02 18:55:33+00:00   \n",
      "85587  11188295      rklaehn 2014-01-02 18:55:33+00:00   \n",
      "\n",
      "                                                    file  \n",
      "0           src/reflect/scala/reflect/api/Printers.scala  \n",
      "1      src/reflect/scala/reflect/internal/Printers.scala  \n",
      "2                        test/files/run/reify_ann3.check  \n",
      "3      test/junit/scala/reflect/internal/PrintersTest...  \n",
      "4      src/library/scala/collection/mutable/ArrayOps....  \n",
      "...                                                  ...  \n",
      "85583  src/library/scala/collection/immutable/HashSet...  \n",
      "85584  src/library/scala/collection/immutable/HashSet...  \n",
      "85585                        test/files/run/t6253a.scala  \n",
      "85586                        test/files/run/t6253b.scala  \n",
      "85587                        test/files/run/t6253c.scala  \n",
      "\n",
      "[85588 rows x 4 columns]\n"
     ]
    }
   ],
   "source": [
    "# Appending pulls_one to pulls_two\n",
    "pulls = pd.concat([pulls_one, pulls_two])\n",
    "\n",
    "# Converting the date for the pulls object\n",
    "pulls['date'] = pd.to_datetime(pulls[\"date\"], utc=True)\n",
    "\n",
    "# Merging two DataFrames together\n",
    "data = pd.merge(pulls, pull_files, on=\"pid\")\n",
    "\n",
    "print(data)"
   ]
  },
  {
   "cell_type": "markdown",
   "id": "7295ea9f-e4fd-4bdd-930d-eaa46418c1af",
   "metadata": {
    "dc": {
     "key": "26"
    },
    "run_control": {
     "frozen": true
    },
    "tags": [
     "context"
    ]
   },
   "source": [
    "## 3. Exploratory Data Analysis - EDA\n"
   ]
  },
  {
   "cell_type": "markdown",
   "id": "dea120ad",
   "metadata": {},
   "source": [
    "### Checking if project is still actively maintained? "
   ]
  },
  {
   "cell_type": "code",
   "execution_count": 128,
   "id": "22853855-b203-4c11-a8f2-7e95b4526ca9",
   "metadata": {
    "dc": {
     "key": "26"
    },
    "tags": [
     "sample_code"
    ]
   },
   "outputs": [
    {
     "data": {
      "text/plain": [
       "<AxesSubplot:xlabel='month,year'>"
      ]
     },
     "execution_count": 128,
     "metadata": {},
     "output_type": "execute_result"
    },
    {
     "data": {
      "image/png": "[encoded data removed]",
      "text/plain": [
       "<Figure size 864x288 with 1 Axes>"
      ]
     },
     "metadata": {
      "needs_background": "light"
     },
     "output_type": "display_data"
    }
   ],
   "source": [
    "# Required for matplotlib\n",
    "%matplotlib inline\n",
    "\n",
    "# Creating columns that will store the month and the year\n",
    "data['month'] = data[\"date\"].dt.month\n",
    "data['year'] = data[\"date\"].dt.year\n",
    "\n",
    "# Grouping by the month and year and counting the pull requests\n",
    "counts = data.groupby([\"month\", \"year\"])[\"pid\"].count()\n",
    "\n",
    "# Count plot to see result\n",
    "counts.plot(kind='bar', figsize = (12,4))"
   ]
  },
  {
   "cell_type": "markdown",
   "id": "82f8de8a-4c55-4f2f-81ce-bb7cfe9e7f10",
   "metadata": {
    "dc": {
     "key": "33"
    },
    "run_control": {
     "frozen": true
    },
    "tags": [
     "context"
    ]
   },
   "source": [
    "### Number of pull requests submitted by each user"
   ]
  },
  {
   "cell_type": "code",
   "execution_count": 9,
   "id": "f519b3d9-4e80-42e7-a6fd-52f3cd909c3b",
   "metadata": {
    "dc": {
     "key": "33"
    },
    "tags": [
     "sample_code"
    ]
   },
   "outputs": [
    {
     "data": {
      "text/plain": [
       "array([[<AxesSubplot:title={'center':'pid'}>]], dtype=object)"
      ]
     },
     "execution_count": 9,
     "metadata": {},
     "output_type": "execute_result"
    },
    {
     "data": {
      "image/png": "[encoded data removed]",
      "text/plain": [
       "<Figure size 640x480 with 1 Axes>"
      ]
     },
     "metadata": {},
     "output_type": "display_data"
    }
   ],
   "source": [
    "# Required for matplotlib\n",
    "%matplotlib inline\n",
    "\n",
    "# Grouping by the submitter\n",
    "by_user = data.groupby('user').agg({'pid': 'count'})\n",
    "\n",
    "# Plotting the histogram\n",
    "by_user.hist()"
   ]
  },
  {
   "cell_type": "markdown",
   "id": "5ba7c491-6b1a-46ea-93ef-25ea16499cfc",
   "metadata": {
    "dc": {
     "key": "40"
    },
    "run_control": {
     "frozen": true
    },
    "tags": [
     "context"
    ]
   },
   "source": [
    "### What files were changed in the last ten pull requests?"
   ]
  },
  {
   "cell_type": "code",
   "execution_count": 12,
   "id": "7e6c366a-dd5f-4b09-bd9b-ceed49b954d0",
   "metadata": {
    "dc": {
     "key": "40"
    },
    "tags": [
     "sample_code"
    ]
   },
   "outputs": [
    {
     "name": "stdout",
     "output_type": "stream",
     "text": [
      "{'src/reflect/scala/reflect/internal/pickling/ByteCodecs.scala', 'src/compiler/scala/tools/nsc/backend/jvm/analysis/BackendUtils.scala', 'test/files/pos/leibniz_liskov.scala', 'test/files/neg/leibniz-liskov.scala', 'src/compiler/scala/tools/nsc/backend/jvm/PostProcessor.scala', 'test/files/pos/t10568/Impl.scala', 'test/files/pos/t5638/Among.java', 'src/compiler/scala/tools/nsc/backend/jvm/BCodeHelpers.scala', 'src/library/scala/util/Properties.scala', 'src/scalap/decoder.properties', 'src/compiler/scala/tools/nsc/typechecker/Contexts.scala', 'test/files/neg/leibniz-liskov.check', 'test/files/run/t8348.check', 'src/library/scala/Predef.scala', 'src/compiler/scala/reflect/reify/phases/Calculate.scala', 'doc/LICENSE.md', 'test/files/pos/t10686.scala', 'doc/License.rtf', 'src/compiler/scala/tools/nsc/symtab/classfile/ClassfileParser.scala', 'test/files/pos/leibniz-liskov.scala', 'test/files/pos/t5638/Usage.scala', 'test/files/pos/t9291.scala', 'test/files/run/t8348/Test.scala', 'LICENSE', 'src/compiler/scala/tools/nsc/profile/AsyncHelper.scala', 'src/scaladoc/scala/tools/nsc/doc/html/page/Entity.scala', 'src/compiler/scala/tools/nsc/profile/Profiler.scala', 'src/reflect/scala/reflect/internal/tpe/GlbLubs.scala', 'src/library/scala/concurrent/Lock.scala', 'test/files/run/t8348/TableColumn.java', 'test/files/pos/parallel-classloader.scala', 'project/VersionUtil.scala', 'test/files/pos/t10568/Converter.java', 'test/files/run/t8348/TableColumnImpl.java'}\n"
     ]
    }
   ],
   "source": [
    "# Identifying the last 10 pull requests\n",
    "last_10 = pulls.nlargest(10, \"pid\")\n",
    "\n",
    "# Joining the two data sets together\n",
    "joined_pr = pd.merge(last_10, pull_files, on=\"pid\")\n",
    "\n",
    "# Identifying the unique files\n",
    "files = set(joined_pr[\"file\"])\n",
    "\n",
    "# Printing the results\n",
    "print(files)"
   ]
  },
  {
   "cell_type": "markdown",
   "id": "76522542-7066-4df5-b533-03654bf1bfd3",
   "metadata": {
    "dc": {
     "key": "47"
    },
    "run_control": {
     "frozen": true
    },
    "tags": [
     "context"
    ]
   },
   "source": [
    "### Who made the most pull requests to a given file?"
   ]
  },
  {
   "cell_type": "code",
   "execution_count": 13,
   "id": "1e5aadcd-c4f9-4646-902f-04f3c9adc337",
   "metadata": {
    "dc": {
     "key": "47"
    },
    "scrolled": true,
    "tags": [
     "sample_code"
    ]
   },
   "outputs": [
    {
     "name": "stdout",
     "output_type": "stream",
     "text": [
      "          pid  date  file\n",
      "user                     \n",
      "xeno-by    11    11    11\n",
      "retronym    5     5     5\n",
      "soc         4     4     4\n"
     ]
    }
   ],
   "source": [
    "# This is the file I am interested in:\n",
    "file = 'src/compiler/scala/reflect/reify/phases/Calculate.scala'\n",
    "\n",
    "# Identifying the commits that changed the file\n",
    "file_pr = data[data[\"file\"] == file]\n",
    "\n",
    "# Counting number of changes made by each developer\n",
    "author_counts = file_pr.groupby(\"user\").count()\n",
    "\n",
    "# Printing the top 3 developers\n",
    "print(author_counts.nlargest(3, \"file\"))"
   ]
  },
  {
   "cell_type": "markdown",
   "id": "7e2f5a52-7fc9-4290-9827-883a20d4213c",
   "metadata": {
    "dc": {
     "key": "54"
    },
    "run_control": {
     "frozen": true
    },
    "tags": [
     "context"
    ]
   },
   "source": [
    "### Who made the last ten pull requests on a given file?"
   ]
  },
  {
   "cell_type": "code",
   "execution_count": 17,
   "id": "da044a35-1561-4318-bcdf-134ac4994b1e",
   "metadata": {
    "dc": {
     "key": "54"
    },
    "tags": [
     "sample_code"
    ]
   },
   "outputs": [
    {
     "name": "stdout",
     "output_type": "stream",
     "text": [
      "{'xeno-by', 'zuvizudar', 'retronym', 'soc'}\n"
     ]
    }
   ],
   "source": [
    "file = 'src/compiler/scala/reflect/reify/phases/Calculate.scala'\n",
    "\n",
    "# Selecting the pull requests that changed the target file\n",
    "file_pr = pull_files[pull_files['file'] == file]\n",
    "\n",
    "# Merging the obtained results with the pulls DataFrame\n",
    "joined_pr = pulls.merge(file_pr, on='pid')\n",
    "\n",
    "# Finding users of the last 5 most recent pull requests\n",
    "users_last_5 = set(joined_pr.nlargest(5, 'date')['user'])\n",
    "\n",
    "# Printing the results\n",
    "print(users_last_5)"
   ]
  },
  {
   "cell_type": "markdown",
   "id": "aa038d63-8c2d-471e-b2d9-76445a1e6713",
   "metadata": {
    "dc": {
     "key": "61"
    },
    "run_control": {
     "frozen": true
    },
    "tags": [
     "context"
    ]
   },
   "source": [
    "### The pull requests completed by users"
   ]
  },
  {
   "cell_type": "code",
   "execution_count": 18,
   "id": "ccd0a1ba-76ac-4879-b80b-0c708d7d7a6f",
   "metadata": {
    "dc": {
     "key": "61"
    },
    "tags": [
     "sample_code"
    ]
   },
   "outputs": [
    {
     "data": {
      "text/plain": [
       "<AxesSubplot:xlabel='date'>"
      ]
     },
     "execution_count": 18,
     "metadata": {},
     "output_type": "execute_result"
    },
    {
     "data": {
      "image/png": "[encoded data removed]",
      "text/plain": [
       "<Figure size 640x480 with 1 Axes>"
      ]
     },
     "metadata": {},
     "output_type": "display_data"
    }
   ],
   "source": [
    "%matplotlib inline\n",
    "\n",
    "# The developers we are interested in\n",
    "authors = ['xeno-by', 'soc', 'retronym', 'zuvizudar']\n",
    "\n",
    "# Getting all the developers' pull requests\n",
    "by_author = pulls[pulls[\"user\"].isin(authors)]\n",
    "\n",
    "# Counting the number of pull requests submitted each year\n",
    "counts = by_author.groupby([by_author['user'], by_author['date'].dt.year]).agg({'pid': 'count'}).reset_index()\n",
    "\n",
    "# Converting the table to a wide format\n",
    "counts_wide = counts.pivot_table(index='date', columns='user', values='pid', fill_value=0)\n",
    "\n",
    "# Plotting the results\n",
    "counts_wide.plot(kind=\"bar\")"
   ]
  },
  {
   "cell_type": "markdown",
   "id": "dfbbc098-d030-463d-aab2-0cccfe531ad9",
   "metadata": {
    "dc": {
     "key": "68"
    },
    "run_control": {
     "frozen": true
    },
    "tags": [
     "context"
    ]
   },
   "source": [
    "### Visualizing the contributions of each developer"
   ]
  },
  {
   "cell_type": "code",
   "execution_count": 20,
   "id": "d20a93e2-046c-4062-a6aa-39d59086b41a",
   "metadata": {
    "dc": {
     "key": "68"
    },
    "tags": [
     "sample_code"
    ]
   },
   "outputs": [
    {
     "data": {
      "text/plain": [
       "<AxesSubplot:xlabel='date'>"
      ]
     },
     "execution_count": 20,
     "metadata": {},
     "output_type": "execute_result"
    },
    {
     "data": {
      "image/png": "[encoded data removed]",
      "text/plain": [
       "<Figure size 640x480 with 1 Axes>"
      ]
     },
     "metadata": {},
     "output_type": "display_data"
    }
   ],
   "source": [
    "authors = ['xeno-by', 'soc', 'retronym', 'zuvizudar']\n",
    "file = 'src/compiler/scala/reflect/reify/phases/Calculate.scala'\n",
    "\n",
    "# Selecting the pull requests submitted by the authors, from the `data` DataFrame\n",
    "by_author = data[data[\"user\"].isin(authors)]\n",
    "\n",
    "# Selecting the pull requests that affect the file\n",
    "by_file = by_author[by_author[\"file\"] == file]\n",
    "\n",
    "# Grouping and counting the number of PRs done by each user each year\n",
    "grouped = by_file.groupby(['user', by_file['date'].dt.year]).count()['pid'].reset_index()\n",
    "\n",
    "# Transforming the data into pivot table\n",
    "by_file_wide = grouped.pivot_table(index=\"date\", columns=\"user\", values=\"pid\",  fill_value=0)\n",
    "\n",
    "# Plotting the results\n",
    "by_file_wide.plot(kind='bar')"
   ]
  }
 ],
 "metadata": {
  "editor": "DataCamp Workspace",
  "kernelspec": {
   "display_name": "Python 3 (ipykernel)",
   "language": "python",
   "name": "python3"
  },
  "language_info": {
   "codemirror_mode": {
    "name": "ipython",
    "version": 3
   },
   "file_extension": ".py",
   "mimetype": "text/x-python",
   "name": "python",
   "nbconvert_exporter": "python",
   "pygments_lexer": "ipython3",
   "version": "3.9.13"
  }
 },
 "nbformat": 4,
 "nbformat_minor": 5
}
